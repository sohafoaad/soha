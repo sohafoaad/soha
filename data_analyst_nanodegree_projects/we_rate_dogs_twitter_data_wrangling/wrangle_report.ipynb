{
 "cells": [
  {
   "cell_type": "markdown",
   "metadata": {},
   "source": [
    "## Reporting: wragle_report\n",
    "* Create a **300-600 word written report** called \"wrangle_report.pdf\" or \"wrangle_report.html\" that briefly describes your wrangling efforts. This is to be framed as an internal document."
   ]
  },
  {
   "cell_type": "markdown",
   "metadata": {},
   "source": [
    "## Data Gathering\n",
    "\n",
    "- First Step to import the twitter-archive-enhanced.csv to WeRateDogs Dataframe \n",
    "- Use the Requests library to download the tweet image prediction (image_predictions.tsv)\n",
    " - creating a folder named twitter_images\n",
    " - identify the URL \"https://d17h27t6h515a5.cloudfront.net/topher/2017/August/599fd2ad_image-predictions/image-predictions.tsv\"\n",
    " - read the responses for the above URL \n",
    " - importing image-predictions to tweetimages Dataframe\n",
    "- Using Json Liberary will read. \"tweet-json.txt\"\n",
    " - Loading data into twitterjson first\n",
    " - change the list type to Dataframe called twitterjson"
   ]
  },
  {
   "cell_type": "markdown",
   "metadata": {},
   "source": [
    "## Assessing Data\n",
    "\n",
    " in this Section we'll assess the data to get the quality and tidiness issues out from the dataframes we just created above \n",
    " \n",
    " > **WeRateDogs**\n",
    " > - getting the types of columns by using dtypes\n",
    " > - get the statistics for WeRateDogs by using WeRateDogs.describe()\n",
    " > - check the existance of any duplication using duplicated().sum()\n",
    " > - check if there's any retweets in the data by using str.contains(\"RT\")\n",
    " \n",
    " > **tweetimages**\n",
    " > - getting the types of columns by using dtypes\n",
    " > - check the existance of any duplication using duplicated().sum()\n",
    " > - get the statistics for WeRateDogs by using describe()\n",
    " \n",
    " > **tweet_json**\n",
    " > - getting the types of columns by using dtypes\n",
    " > - get the statistics for WeRateDogs by using describe()\n",
    " > - check the unique values. for several columns \n",
    " \n",
    " Identifing the Quality issues and. Tidness issues"
   ]
  },
  {
   "cell_type": "markdown",
   "metadata": {},
   "source": [
    "## Cleaning Data\n",
    "\n",
    " In this section we'll clean the issues we have identifed in the above section \n",
    " - First creat copies from the 3 Datasets\n",
    " \n",
    "###  Tidiness Issue\n",
    " > - First replace None in stage columns with empty string as follows.\n",
    " > - Then combine stage columns.\n",
    " > - Check the unique Values for Dog_type\n",
    " > - split the names with comma\n",
    " > - droping the other columns as it doesn't have any need now ('doggo','floofer','puppo','pupper')\n",
    "\n",
    "### Quality Issues: \n",
    " \n",
    " Isuue 1:\n",
    " > - Remove the tweets with 'RT' in it's begining from WeRateDogs\n",
    " > - Create List with tweets that HAs RT in the begining \n",
    " > - Exclude those Tweets from the DataFrame we are working with\n",
    "\n",
    " Issue 2:\n",
    " > - keep only the tweets that has dog in either 1 of the 3 photos in tweetimages\n",
    " > - keep only the tweets with any of the 3 pictures has dog on it \n",
    " \n",
    " Issue 3:\n",
    " > - Columns in Tweet-Json related to retweets is not required as we don't need retweets so we'll remove\n",
    " > - Drop not required. retweet columns ('retweet_count','retweeted','retweeted_status')\n",
    " \n",
    " Issue 3:\n",
    " > - Columns in Tweet-Json is repeated one time integer and another string , whcih we need to make it only 1 type\n",
    " > - Drop duplicated columns with end of str \n",
    " \n",
    " Issue 5: \n",
    " > - As described in the project overview the rating_numerator should be greater than the denominator so we are making it applicable by multipying with 10\n",
    " > - Multiplying data with 10 for all the rating rating_denominator \n",
    " \n",
    " Issue 6:\n",
    " > - Denominator in WeRateDogs can't be 0 as this will make issue so we need to update it to 10 as the default value\n",
    " > - Replace the Denominator 0 with 10 \n",
    " \n",
    " Issue 7:\n",
    " > - Joining all the data together to frame one dataset\n",
    " \n",
    " Issue 8:\n",
    " > - We need to join data together so we can remove not dogs Tweets and keep only what we intersted in\n",
    " > - remove any rows contains str.contains('We only rate dogs')\n",
    " \n",
    " Issue 9:\n",
    " > - Time STamp need to be changed. to datetime in WeRateDogs\n",
    " > -  Using pd.to_datetime\n",
    " \n",
    " "
   ]
  },
  {
   "cell_type": "code",
   "execution_count": null,
   "metadata": {},
   "outputs": [],
   "source": []
  }
 ],
 "metadata": {
  "kernelspec": {
   "display_name": "Python 3 (ipykernel)",
   "language": "python",
   "name": "python3"
  },
  "language_info": {
   "codemirror_mode": {
    "name": "ipython",
    "version": 3
   },
   "file_extension": ".py",
   "mimetype": "text/x-python",
   "name": "python",
   "nbconvert_exporter": "python",
   "pygments_lexer": "ipython3",
   "version": "3.9.12"
  }
 },
 "nbformat": 4,
 "nbformat_minor": 2
}
